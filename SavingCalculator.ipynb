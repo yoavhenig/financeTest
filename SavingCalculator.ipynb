{
 "cells": [
  {
   "cell_type": "markdown",
   "metadata": {},
   "source": [
    "# Saving calculator\n",
    "### A simple simulate to test your economy"
   ]
  },
  {
   "cell_type": "markdown",
   "metadata": {},
   "source": [
    "##### Enter number of children:"
   ]
  },
  {
   "cell_type": "code",
   "execution_count": 1,
   "metadata": {},
   "outputs": [
    {
     "data": {
      "application/vnd.jupyter.widget-view+json": {
       "model_id": "a55d2b770b1c4ddbbe3471d1a9b14cd1",
       "version_major": 2,
       "version_minor": 0
      },
      "text/plain": [
       "BoundedIntText(value=0, description='Children:', max=10)"
      ]
     },
     "metadata": {},
     "output_type": "display_data"
    }
   ],
   "source": [
    "import ipywidgets as widgets\n",
    "childrenSpinBox = widgets.BoundedIntText(\n",
    "    value=0,\n",
    "    min=0,\n",
    "    max=10,\n",
    "    step=1,\n",
    "    description='Children:',\n",
    "    disabled=False\n",
    ")\n",
    "childrenSpinBox"
   ]
  },
  {
   "cell_type": "markdown",
   "metadata": {},
   "source": [
    "##### Enter childs ages:"
   ]
  },
  {
   "cell_type": "code",
   "execution_count": 2,
   "metadata": {},
   "outputs": [
    {
     "name": "stdout",
     "output_type": "stream",
     "text": [
      "Enter age:\n",
      "\n",
      "2\n",
      "Enter age:\n",
      "\n",
      "5\n",
      "Enter age:\n",
      "\n",
      "12\n"
     ]
    }
   ],
   "source": [
    "children = childrenSpinBox.value\n",
    "ages = []\n",
    "for i in range (0, children):\n",
    "    print(\"Enter age:\\n\")\n",
    "    ages.append(int(input()))"
   ]
  },
  {
   "cell_type": "markdown",
   "metadata": {},
   "source": [
    "### Plotting saving amount across the program range:\n",
    "###### (change constatns by hardcoded)"
   ]
  },
  {
   "cell_type": "code",
   "execution_count": 3,
   "metadata": {},
   "outputs": [
    {
     "data": {
      "image/png": "[encoded data removed]",
      "text/plain": [
       "<Figure size 432x288 with 1 Axes>"
      ]
     },
     "metadata": {
      "needs_background": "light"
     },
     "output_type": "display_data"
    },
    {
     "name": "stdout",
     "output_type": "stream",
     "text": [
      "Final amount is:  106000\n",
      "                 at year:  2051\n"
     ]
    }
   ],
   "source": [
    "from random import randrange\n",
    "import matplotlib.pyplot as plt\n",
    "import datetime\n",
    "\n",
    "now = datetime.datetime.now()\n",
    "CURRENT_YEAR = now.year\n",
    "\n",
    "START_AMOUNT = 10000; BAR_MITZVA_COST = 10000; WEDDING_COST = 50000; HOUSE_COST = 70000; MONTH_SAVE = 450;\n",
    "PLAN_RANGE = 30; WEDDING_AGE = 23; BAR_MITZVA_AGE = 13; HOUSE_AGE = 26\n",
    "\n",
    "amount_for_graph = []\n",
    "timeline = []\n",
    "\n",
    "def plot_to_graph(amount, time):\n",
    "    amount_for_graph.append(amount)\n",
    "    timeline.append(time)\n",
    "\n",
    "class Child:\n",
    "    def __init__(self, age = 0):\n",
    "        self.age = age\n",
    "        self.sex = randrange(1)\n",
    "\n",
    "amount = START_AMOUNT\n",
    "plot_to_graph(amount, CURRENT_YEAR)\n",
    "childs = []\n",
    "for x in ages:\n",
    "    childs.append(Child(x))\n",
    "\n",
    "\n",
    "for year in range(CURRENT_YEAR, CURRENT_YEAR + PLAN_RANGE):\n",
    "    for child in childs:\n",
    "        amount += (MONTH_SAVE * 12)\n",
    "        child.age += 1\n",
    "        if child.age is WEDDING_AGE:\n",
    "            amount -= WEDDING_COST\n",
    "        if child.age is BAR_MITZVA_AGE:\n",
    "            amount -= BAR_MITZVA_COST\n",
    "        if child.age is HOUSE_AGE:\n",
    "            amount -= HOUSE_COST\n",
    "    plot_to_graph(amount, year)\n",
    "\n",
    "fig, ax = plt.subplots()\n",
    "ax.axhline(0, color='red', lw=2, alpha=0.5)\n",
    "\n",
    "plt.plot(timeline, amount_for_graph)\n",
    "plt.show()\n",
    "print(\"Final amount is: \" , amount)\n",
    "print(\"                 at year: \", CURRENT_YEAR + PLAN_RANGE)\n"
   ]
  },
  {
   "cell_type": "code",
   "execution_count": null,
   "metadata": {},
   "outputs": [],
   "source": []
  }
 ],
 "metadata": {
  "kernelspec": {
   "display_name": "Python 3",
   "language": "python",
   "name": "python3"
  },
  "language_info": {
   "codemirror_mode": {
    "name": "ipython",
    "version": 3
   },
   "file_extension": ".py",
   "mimetype": "text/x-python",
   "name": "python",
   "nbconvert_exporter": "python",
   "pygments_lexer": "ipython3",
   "version": "3.8.5"
  }
 },
 "nbformat": 4,
 "nbformat_minor": 4
}
